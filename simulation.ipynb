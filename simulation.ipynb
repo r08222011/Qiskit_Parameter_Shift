{
 "cells": [
  {
   "cell_type": "markdown",
   "metadata": {},
   "source": [
    "# Implementing Parameter Shift Rule with Qiskit\n",
    "\n",
    "Follow the paper [Gradients of parameterized quantum gates using the parameter-shift rule and gate decomposition](https://arxiv.org/abs/1905.13311)"
   ]
  },
  {
   "cell_type": "markdown",
   "metadata": {},
   "source": [
    "## Import Packages and Dataset Preparation\n",
    "\n",
    "#### Dataset\n",
    "- We use the famous dataset : [Iris dataset](https://scikit-learn.org/stable/modules/generated/sklearn.datasets.load_iris.html)\n",
    "\n",
    "#### Data Preprocessing\n",
    "1. Use [PCA](https://en.wikipedia.org/wiki/Principal_component_analysis) to reduce the dimension from 4 to 2\n",
    "2. Shift and scale the data to [0,1]"
   ]
  },
  {
   "cell_type": "code",
   "execution_count": 9,
   "metadata": {},
   "outputs": [],
   "source": [
    "import time\n",
    "import numpy as np\n",
    "from sklearn import datasets\n",
    "from sklearn.decomposition import PCA\n",
    "from qiskit.circuit import QuantumCircuit, Parameter\n",
    "from qiskit import Aer, transpile\n",
    "\n",
    "import pandas as pd\n",
    "import seaborn as sns\n",
    "import matplotlib.pyplot as plt\n",
    "\n",
    "np.random.seed(0)"
   ]
  },
  {
   "cell_type": "code",
   "execution_count": 10,
   "metadata": {},
   "outputs": [
    {
     "name": "stdout",
     "output_type": "stream",
     "text": [
      "x_data shape = (100, 2) | y_data shape = (100,)\n"
     ]
    }
   ],
   "source": [
    "# load dataset with sklearn\n",
    "iris = datasets.load_iris()\n",
    "x_data, y_data = iris.data[:100], iris.target[:100]\n",
    "\n",
    "# data preprocessing\n",
    "x_data = PCA(n_components=2).fit_transform(x_data)\n",
    "x_data = np.transpose(x_data)\n",
    "for i in range(len(x_data)):\n",
    "    x_data[i] -= np.min(x_data[i])\n",
    "    x_data[i] *= np.pi / np.max(x_data[i])\n",
    "x_data = np.transpose(x_data)\n",
    "\n",
    "print(f\"x_data shape = {x_data.shape} | y_data shape = {y_data.shape}\")"
   ]
  },
  {
   "cell_type": "markdown",
   "metadata": {},
   "source": [
    "## Variational Quantum Circuit\n",
    "\n",
    "- See [Variational Quantum Circuit](https://pennylane.ai/qml/glossary/variational_circuit.html) for more detail\n",
    "- We also use the [Data re-uploading technique](https://arxiv.org/abs/1907.02085)\n",
    "\n",
    "#### VQC(class)\n",
    "- evaluate: run the simulation with given data and trainable parameters, return the expectation value\n",
    "- parameter_shift: we use the formula in the original paper $\\frac{d}{d\\theta}f(\\theta)=\\frac{1}{2}(f(\\theta+\\frac{\\pi}{2})-f(\\theta-\\frac{\\pi}{2}))$"
   ]
  },
  {
   "cell_type": "code",
   "execution_count": 11,
   "metadata": {},
   "outputs": [],
   "source": [
    "class VariationalQuantumCircuit:\n",
    "    def __init__(self, num_qubits, num_layers, ansatz):\n",
    "        '''Variational Quantum Circuit\n",
    "        \n",
    "        Args:\n",
    "            num_qubits (int): number of qubits, assuming same as the dimension of the data\n",
    "            num_layers (int): data-reuploading times\n",
    "            ansatz (function): will return a tuple (x_param, u_param)\n",
    "                               x_param (array[qiskit.circuit.Parameter]): used for the input of x data\n",
    "                               u_param (array[qiskit.circuit.Parameter]): used for trainable parameters\n",
    "        '''\n",
    "\n",
    "        # setup\n",
    "        self.num_qubits = num_qubits\n",
    "        self.num_layers = num_layers\n",
    "        self.q_circuit  = QuantumCircuit(num_qubits, 1)\n",
    "        self.x_param, self.u_param = ansatz(self.q_circuit, num_qubits, num_layers)\n",
    "\n",
    "        # measure the expectation value of the first qubit as the final prediction\n",
    "        self.q_circuit.measure(0,0)\n",
    "        self.backend = Aer.get_backend('qasm_simulator')\n",
    "\n",
    "    def evaluate(self, x, u, shots=1024):\n",
    "        '''Evaluating the expectation value of the quantum circuit\n",
    "\n",
    "        Args:\n",
    "            x (array): x data\n",
    "            u (array): trainable parameters\n",
    "        '''\n",
    "\n",
    "        # construct a dictionary between circuit parameters(qiskit.circuit.Parameter) and values(x and u)\n",
    "        param = np.concatenate((self.x_param.flatten(), self.u_param.flatten()))\n",
    "        value = np.concatenate((x.flatten(), u.flatten()))\n",
    "        dic   = dict(zip(param, value))\n",
    "\n",
    "        # run simulation\n",
    "        x_circuit = self.q_circuit.bind_parameters(dic)\n",
    "        x_compile = transpile(x_circuit, self.backend)\n",
    "        job       = self.backend.run(x_compile, shots=shots)\n",
    "        counts    = job.result().get_counts(x_compile)\n",
    "\n",
    "        # expectation value = (0*counts['0'] + 1*counts['1'])/(shots)\n",
    "        return counts['1'] / shots\n",
    "\n",
    "    def parameter_shift(self, x, u):\n",
    "        '''Implementing the parameter shift rule\n",
    "\n",
    "        Args:\n",
    "            x (array): x data\n",
    "            u (array): trainable parameters\n",
    "        '''\n",
    "\n",
    "        # record gradients with the same shape as the trainable parameters\n",
    "        gradients = np.zeros(np.shape(u))\n",
    "        for i in range(u.shape[0]):\n",
    "            for j in range(u.shape[1]):\n",
    "                u_plus, u_minus = np.copy(u), np.copy(u)\n",
    "                u_plus[i][j]  += np.pi / 2\n",
    "                u_minus[i][j] -= np.pi / 2\n",
    "                gradients[i][j] = (self.evaluate(x, u_plus)-self.evaluate(x, u_minus)) / 2\n",
    "        return gradients"
   ]
  },
  {
   "cell_type": "markdown",
   "metadata": {},
   "source": [
    "## Ansatz\n",
    "\n",
    "We use an famous and easy ansatz, constructed by rotation gates. See the circuit.draw() below for the circuit image."
   ]
  },
  {
   "cell_type": "code",
   "execution_count": 12,
   "metadata": {},
   "outputs": [],
   "source": [
    "def rotation_circuit(q_circuit, num_qubits, num_layers):\n",
    "    '''Construct the quantum circuit\n",
    "    \n",
    "    Args:\n",
    "        q_circuit (qiskit.circuit.QuantumCircuit): quantum circuit to be built up\n",
    "        num_qubits (int): number of qubits, assuming same as the dimension of the data\n",
    "        num_layers (int): data-reuploading times\n",
    "    Return:\n",
    "        x_param (array[qiskit.circuit.Parameter]): used for the input of x data\n",
    "        u_param (array[qiskit.circuit.Parameter]): used for trainable parameters\n",
    "    '''\n",
    "\n",
    "    x_param = np.array([Parameter(f\"x_{i}\") for i in range(num_qubits)])\n",
    "    u_param = np.array([[Parameter(f\"u_{l}_{i}\") for i in range(3*num_qubits)] for l in range(num_layers)])\n",
    "\n",
    "    for l in range(num_layers):\n",
    "        # data re-upload for each l\n",
    "        for i in range(num_qubits):\n",
    "            # encode the x data with rotation gates\n",
    "            q_circuit.rx(x_param[i], i)\n",
    "            q_circuit.ry(u_param[l][3*i+0], i)\n",
    "            q_circuit.rx(u_param[l][3*i+1], i)\n",
    "            q_circuit.ry(u_param[l][3*i+2], i)\n",
    "        for i in range(num_qubits):\n",
    "            # add controlled-z gate for entanglement\n",
    "            if i != num_qubits - 1 or num_qubits > 2:\n",
    "                q_circuit.h((i+1)%num_qubits)\n",
    "                q_circuit.cx(i%num_qubits, (i+1)%num_qubits)\n",
    "                q_circuit.h((i+1)%num_qubits)\n",
    "        q_circuit.barrier(range(num_qubits))\n",
    "    return x_param, u_param"
   ]
  },
  {
   "cell_type": "markdown",
   "metadata": {},
   "source": [
    "## Model and Training\n",
    "\n",
    "- Use [stochastic gradient method](https://en.wikipedia.org/wiki/Stochastic_gradient_descent) to update the trainable parameters\n",
    "- Initialize the trainable parameters with uniformly randomize in $[0, 2\\pi]$\n",
    "- Use square loss function $L(x,\\theta) = (f(x,\\theta)-y)^2$, the gradient is $\\frac{\\partial L}{\\partial \\theta_i}=2(f(x,\\theta)-y)\\frac{\\partial f}{\\partial \\theta_i}$ where $\\frac{\\partial f}{\\partial \\theta_i}$ can be found using parameter shift rule"
   ]
  },
  {
   "cell_type": "code",
   "execution_count": 13,
   "metadata": {},
   "outputs": [
    {
     "data": {
      "image/png": "[encoded data removed]",
      "text/plain": [
       "<Figure size 989.452x204.68 with 1 Axes>"
      ]
     },
     "execution_count": 13,
     "metadata": {},
     "output_type": "execute_result"
    }
   ],
   "source": [
    "num_qubits    = x_data.shape[1]\n",
    "num_layers    = 2\n",
    "num_epochs    = 20 # number of epochs\n",
    "num_batch     = 16 # number of data per batch\n",
    "learning_rate = 0.25 # learning_rate for stochastic gradient descent\n",
    "\n",
    "vqc = VariationalQuantumCircuit(num_qubits, num_layers, rotation_circuit)\n",
    "vqc.q_circuit.draw('mpl', plot_barriers=False, scale=1)"
   ]
  },
  {
   "cell_type": "code",
   "execution_count": 14,
   "metadata": {},
   "outputs": [],
   "source": [
    "def square_loss(y_prediction, y_true):\n",
    "    return np.mean((y_prediction - y_true) ** 2)\n",
    "\n",
    "def square_loss_gradient(x, y):\n",
    "    global thetas\n",
    "    return 2 * (vqc.evaluate(x, thetas) - y) * vqc.parameter_shift(x, thetas)"
   ]
  },
  {
   "cell_type": "code",
   "execution_count": 15,
   "metadata": {},
   "outputs": [
    {
     "name": "stdout",
     "output_type": "stream",
     "text": [
      "Trained files found, successfully loaded.\n"
     ]
    }
   ],
   "source": [
    "npy_thetas = f\"thetas_q{num_qubits}_l{num_layers}.npy\" # for saving trained thetas\n",
    "npy_record = f\"record_q{num_qubits}_l{num_layers}.npy\" # for saving training record\n",
    "\n",
    "try:\n",
    "    thetas = np.load(npy_thetas, allow_pickle=True)\n",
    "    record = np.load(npy_record, allow_pickle=True)\n",
    "    print(\"Trained files found, successfully loaded.\")\n",
    "except:\n",
    "    thetas  = 2 * np.pi * np.random.rand(*vqc.u_param.shape) # trainable parameters\n",
    "    record  = [] # record loss and accuracy in every epoch\n",
    "    t_start = time.time()\n",
    "\n",
    "    for epoch in range(num_epochs+1):\n",
    "        if epoch != 0:\n",
    "            # randomly select data as batch data\n",
    "            batch_indices    = np.random.choice(np.arange(len(x_data)), num_batch, replace=True)\n",
    "            x_batch, y_batch = x_data[batch_indices], y_data[batch_indices]\n",
    "            \n",
    "            # stochastic gradient descent\n",
    "            gradient = np.array([square_loss_gradient(x_batch[i], y_batch[i]) for i in range(len(x_batch))])\n",
    "            thetas  -= learning_rate * np.mean(gradient, axis=0)\n",
    "\n",
    "        # calculating mean loss and accuracy\n",
    "        y_pred   = np.array([vqc.evaluate(x_data[i], thetas) for i in range(len(x_data))])\n",
    "        loss     = square_loss(y_pred, y_data)\n",
    "        accuracy = np.mean((y_pred > 0.5) == y_data)\n",
    "\n",
    "        record.append({'loss':loss, 'accuracy':accuracy})\n",
    "        print(f\"Epoch {epoch} : Loss = {loss:.4f} | Accuracy = {accuracy:.2f}\")\n",
    "\n",
    "    np.save(npy_thetas, thetas, allow_pickle=True)\n",
    "    np.save(npy_record, record, allow_pickle=True)\n",
    "    t_end = time.time()\n",
    "    print(f\"Time = {t_end-t_start:.2f} seconds\")"
   ]
  },
  {
   "cell_type": "code",
   "execution_count": 16,
   "metadata": {},
   "outputs": [
    {
     "data": {
      "image/png": "[encoded data removed]",
      "text/plain": [
       "<Figure size 432x288 with 2 Axes>"
      ]
     },
     "metadata": {},
     "output_type": "display_data"
    }
   ],
   "source": [
    "sns.set_theme()\n",
    "fig, ax_loss = plt.subplots()\n",
    "ax_accuracy  = ax_loss.twinx()\n",
    "ax_loss.set_xlabel(\"Epochs\")\n",
    "\n",
    "color_loss = 'C0'\n",
    "ax_loss.plot(range(len(record)), [record[i]['loss'] for i in range(len(record))], color=color_loss)\n",
    "ax_loss.set_xticks([5*i for i in range(len(record))])\n",
    "ax_loss.set_ylabel(\"Loss\", color=color_loss)\n",
    "ax_loss.tick_params(axis='y', labelcolor=color_loss)\n",
    "\n",
    "color_accuracy = 'C1'\n",
    "ax_accuracy.plot(range(len(record)), [record[i]['accuracy'] for i in range(len(record))], color_accuracy)\n",
    "ax_accuracy.set_ylabel(\"Accuracy\", color=color_accuracy)\n",
    "ax_accuracy.tick_params(axis='y', labelcolor=color_accuracy)"
   ]
  }
 ],
 "metadata": {
  "interpreter": {
   "hash": "a5395b5e764a4418832adfd38f48924b0b13b60dc8377c790fe1d1109da8842f"
  },
  "kernelspec": {
   "display_name": "Python 3.8.11 64-bit ('3.8.11')",
   "language": "python",
   "name": "python3"
  },
  "language_info": {
   "codemirror_mode": {
    "name": "ipython",
    "version": 3
   },
   "file_extension": ".py",
   "mimetype": "text/x-python",
   "name": "python",
   "nbconvert_exporter": "python",
   "pygments_lexer": "ipython3",
   "version": "3.8.11"
  },
  "orig_nbformat": 4
 },
 "nbformat": 4,
 "nbformat_minor": 2
}
